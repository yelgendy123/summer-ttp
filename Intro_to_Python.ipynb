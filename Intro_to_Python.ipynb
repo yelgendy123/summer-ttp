{
  "nbformat": 4,
  "nbformat_minor": 0,
  "metadata": {
    "colab": {
      "provenance": [],
      "toc_visible": true,
      "authorship_tag": "ABX9TyPVnFxqamMtQNmCd6ZP0QoC",
      "include_colab_link": true
    },
    "kernelspec": {
      "name": "python3",
      "display_name": "Python 3"
    },
    "language_info": {
      "name": "python"
    }
  },
  "cells": [
    {
      "cell_type": "markdown",
      "metadata": {
        "id": "view-in-github",
        "colab_type": "text"
      },
      "source": [
        "<a href=\"https://colab.research.google.com/github/yelgendy123/summer-ttp/blob/main/Intro_to_Python.ipynb\" target=\"_parent\"><img src=\"https://colab.research.google.com/assets/colab-badge.svg\" alt=\"Open In Colab\"/></a>"
      ]
    },
    {
      "cell_type": "markdown",
      "source": [
        "# python Basics"
      ],
      "metadata": {
        "id": "AgQ4e7PFHbR7"
      }
    },
    {
      "cell_type": "markdown",
      "source": [
        "Variable"
      ],
      "metadata": {
        "id": "R33jeLK0Mi7g"
      }
    },
    {
      "cell_type": "code",
      "source": [
        "hi= \"Hello\""
      ],
      "metadata": {
        "id": "8c8rbH_lMmhr"
      },
      "execution_count": 5,
      "outputs": []
    },
    {
      "cell_type": "code",
      "source": [
        "name=\"John\""
      ],
      "metadata": {
        "id": "VVfJqAsnMugA"
      },
      "execution_count": 6,
      "outputs": []
    },
    {
      "cell_type": "code",
      "source": [
        "age=\"22\""
      ],
      "metadata": {
        "id": "LYqtzqzkMucz"
      },
      "execution_count": 7,
      "outputs": []
    },
    {
      "cell_type": "code",
      "source": [
        "print(hi + \" my name is \"+ name + \" i am \"+str(age) )\n",
        "msg=\"{} my name is {} i am {}\"\n",
        "print(msg.format(hi,name,age))"
      ],
      "metadata": {
        "colab": {
          "base_uri": "https://localhost:8080/"
        },
        "id": "inTUX0ZdMuZu",
        "outputId": "320c0e76-1eb3-4cc2-a1d0-7ea421d705ab"
      },
      "execution_count": 18,
      "outputs": [
        {
          "output_type": "stream",
          "name": "stdout",
          "text": [
            "Hello my name is John i am 22\n",
            "Hello my name is John i am 22\n"
          ]
        }
      ]
    },
    {
      "cell_type": "code",
      "source": [
        "msg = \"My name is youssef i am {}\".format(age)"
      ],
      "metadata": {
        "id": "2AKRosNnMuW2"
      },
      "execution_count": 16,
      "outputs": []
    },
    {
      "cell_type": "code",
      "source": [
        "print(msg)"
      ],
      "metadata": {
        "colab": {
          "base_uri": "https://localhost:8080/"
        },
        "id": "9Kgk-lRfMuTZ",
        "outputId": "cb8185fa-5d68-430d-928e-29057db8e51c"
      },
      "execution_count": 17,
      "outputs": [
        {
          "output_type": "stream",
          "name": "stdout",
          "text": [
            "My name is youssef i am 22\n"
          ]
        }
      ]
    },
    {
      "cell_type": "code",
      "source": [],
      "metadata": {
        "id": "YyRHM1RxMuPx"
      },
      "execution_count": null,
      "outputs": []
    },
    {
      "cell_type": "code",
      "source": [
        "intro=\"Hello my name is youssef\""
      ],
      "metadata": {
        "id": "BitXbiL1MuGD"
      },
      "execution_count": 11,
      "outputs": []
    },
    {
      "cell_type": "code",
      "source": [
        "print(intro[3],[5])"
      ],
      "metadata": {
        "colab": {
          "base_uri": "https://localhost:8080/"
        },
        "id": "eAEKekQ4OSsv",
        "outputId": "58963029-e713-4428-d25c-f04a9df108fe"
      },
      "execution_count": 13,
      "outputs": [
        {
          "output_type": "stream",
          "name": "stdout",
          "text": [
            "l [5]\n"
          ]
        }
      ]
    },
    {
      "cell_type": "code",
      "source": [
        "print"
      ],
      "metadata": {
        "id": "BdaEGAaIOZVC"
      },
      "execution_count": null,
      "outputs": []
    }
  ]
}